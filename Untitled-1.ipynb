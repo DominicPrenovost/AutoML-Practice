{
 "cells": [
  {
   "cell_type": "code",
   "execution_count": 2,
   "metadata": {},
   "outputs": [],
   "source": [
    "import pyarrow as pa\n",
    "import pyarrow.ipc as ipc\n",
    "import pandas as pd\n",
    "from sklearn.model_selection import train_test_split\n",
    "from sklearn.datasets import load_digits\n",
    "from sklearn.metrics import accuracy_score\n",
    "from supervised.automl import AutoML\n",
    "from sklearn.datasets import fetch_california_housing\n",
    "from sklearn.metrics import mean_squared_error\n",
    "import numpy as np\n",
    "from sklearn.metrics import classification_report"
   ]
  },
  {
   "cell_type": "markdown",
   "metadata": {},
   "source": [
    "## Binary Classification Exemple"
   ]
  },
  {
   "cell_type": "code",
   "execution_count": null,
   "metadata": {},
   "outputs": [],
   "source": [
    "df = pd.read_csv(\n",
    "    \"https://raw.githubusercontent.com/pplonski/datasets-for-start/master/adult/data.csv\",\n",
    "    skipinitialspace=True,\n",
    ")\n",
    "X_train, X_test, y_train, y_test = train_test_split(\n",
    "    df[df.columns[:-1]], df[\"income\"], test_size=0.25\n",
    ")\n",
    "\n",
    "automl = AutoML(mode=\"Explain\", explain_level=2,)\n",
    "automl.fit(X_train, y_train)\n",
    "\n",
    "predictions = automl.predict(X_test)\n",
    "\n",
    "print(classification_report(y_test, predictions))"
   ]
  },
  {
   "cell_type": "markdown",
   "metadata": {},
   "source": [
    "## Multi-Class Classification Example"
   ]
  },
  {
   "cell_type": "code",
   "execution_count": null,
   "metadata": {},
   "outputs": [],
   "source": [
    "# load the data\n",
    "digits = load_digits()\n",
    "X_train, X_test, y_train, y_test = train_test_split(\n",
    "    pd.DataFrame(digits.data), digits.target, stratify=digits.target, test_size=0.25,\n",
    "    random_state=123\n",
    ")\n",
    "\n",
    "# train models with AutoML\n",
    "automl = AutoML(mode=\"Perform\")\n",
    "automl.fit(X_train, y_train)\n",
    "\n",
    "# compute the accuracy on test data\n",
    "predictions = automl.predict_all(X_test)\n",
    "print(predictions.head())\n",
    "print(\"Test accuracy:\", accuracy_score(y_test, predictions[\"label\"].astype(int)))"
   ]
  },
  {
   "cell_type": "markdown",
   "metadata": {},
   "source": [
    "## Regression Exemple"
   ]
  },
  {
   "cell_type": "code",
   "execution_count": null,
   "metadata": {},
   "outputs": [],
   "source": [
    "# Load the data\n",
    "housing = fetch_california_housing()\n",
    "X_train, X_test, y_train, y_test = train_test_split(\n",
    "    pd.DataFrame(housing.data, columns=housing.feature_names),\n",
    "    housing.target,\n",
    "    test_size=0.25,\n",
    "    random_state=123,\n",
    ")\n",
    "\n",
    "# train models with AutoML\n",
    "automl = AutoML(mode=\"Explain\")\n",
    "automl.fit(X_train, y_train)\n",
    "\n",
    "# compute the MSE on test data\n",
    "predictions = automl.predict(X_test)\n",
    "print(\"Test MSE:\", mean_squared_error(y_test, predictions))"
   ]
  },
  {
   "cell_type": "markdown",
   "metadata": {},
   "source": [
    "## Classify Random Data"
   ]
  },
  {
   "cell_type": "code",
   "execution_count": null,
   "metadata": {},
   "outputs": [],
   "source": [
    "COLS = 10\n",
    "\n",
    "for ROWS in [1000, 5000, 10000]:\n",
    "    X = np.random.uniform(size=(ROWS, COLS))\n",
    "    y = np.random.randint(0, 2, size=(ROWS,))\n",
    "\n",
    "    automl = AutoML(results_path=f\"AutoML_{ROWS//1000}k\", mode=\"Explain\", features_selection=True)\n",
    "    automl.fit(X, y)"
   ]
  },
  {
   "cell_type": "markdown",
   "metadata": {},
   "source": [
    "## Classify Titanic Passenger"
   ]
  },
  {
   "cell_type": "code",
   "execution_count": 1,
   "metadata": {},
   "outputs": [
    {
     "name": "stderr",
     "output_type": "stream",
     "text": [
      "Using `tqdm.autonotebook.tqdm` in notebook mode. Use `tqdm.tqdm` instead to force console mode (e.g. in jupyter console)\n"
     ]
    },
    {
     "name": "stdout",
     "output_type": "stream",
     "text": [
      "AutoML directory: AutoML_3\n",
      "The task is binary_classification with evaluation metric logloss\n",
      "AutoML will use algorithms: ['Baseline', 'Linear', 'Decision Tree', 'Random Forest', 'Xgboost', 'Neural Network']\n",
      "AutoML will ensemble available models\n",
      "AutoML steps: ['simple_algorithms', 'default_algorithms', 'ensemble']\n",
      "* Step simple_algorithms will try to check up to 3 models\n",
      "1_Baseline logloss 0.666775 trained in 0.14 seconds\n",
      "2_DecisionTree logloss 0.725717 trained in 6.45 seconds\n",
      "3_Linear logloss 0.594614 trained in 3.8 seconds\n",
      "* Step default_algorithms will try to check up to 3 models\n",
      "4_Default_Xgboost logloss 0.458055 trained in 1.68 seconds\n",
      "5_Default_NeuralNetwork logloss 1.304468 trained in 1.42 seconds\n",
      "6_Default_RandomForest logloss 0.453058 trained in 4.93 seconds\n",
      "* Step ensemble will try to check up to 1 model\n",
      "Ensemble logloss 0.433469 trained in 0.69 seconds\n",
      "AutoML fit time: 23.26 seconds\n",
      "AutoML best model: Ensemble\n",
      "Accuracy: 78.23%\n"
     ]
    }
   ],
   "source": [
    "import pandas as pd\n",
    "import numpy as np\n",
    "from sklearn.metrics import accuracy_score\n",
    "from supervised import AutoML\n",
    "\n",
    "train = pd.read_csv(\"https://raw.githubusercontent.com/pplonski/datasets-for-start/master/Titanic/train.csv\")\n",
    "\n",
    "X = train[train.columns[2:]]\n",
    "y = train[\"Survived\"]\n",
    "\n",
    "automl = AutoML(results_path=\"AutoML_3\")\n",
    "automl.fit(X, y)\n",
    "\n",
    "test = pd.read_csv(\"https://raw.githubusercontent.com/pplonski/datasets-for-start/master/Titanic/test_with_Survived.csv\")\n",
    "predictions = automl.predict(test)\n",
    "print(f\"Accuracy: {accuracy_score(test['Survived'], predictions)*100.0:.2f}%\" )"
   ]
  }
 ],
 "metadata": {
  "kernelspec": {
   "display_name": "HECFinance",
   "language": "python",
   "name": "python3"
  },
  "language_info": {
   "codemirror_mode": {
    "name": "ipython",
    "version": 3
   },
   "file_extension": ".py",
   "mimetype": "text/x-python",
   "name": "python",
   "nbconvert_exporter": "python",
   "pygments_lexer": "ipython3",
   "version": "3.11.4"
  }
 },
 "nbformat": 4,
 "nbformat_minor": 2
}
