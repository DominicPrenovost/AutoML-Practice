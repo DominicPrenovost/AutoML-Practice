{
 "cells": [
  {
   "cell_type": "code",
   "execution_count": 1,
   "metadata": {},
   "outputs": [
    {
     "name": "stderr",
     "output_type": "stream",
     "text": [
      "Using `tqdm.autonotebook.tqdm` in notebook mode. Use `tqdm.tqdm` instead to force console mode (e.g. in jupyter console)\n"
     ]
    }
   ],
   "source": [
    "import pyarrow as pa\n",
    "import pyarrow.ipc as ipc\n",
    "import pandas as pd\n",
    "from sklearn.model_selection import train_test_split\n",
    "from sklearn.datasets import load_digits\n",
    "from sklearn.metrics import accuracy_score\n",
    "from supervised.automl import AutoML\n",
    "from sklearn.datasets import fetch_california_housing\n",
    "from sklearn.metrics import mean_squared_error\n",
    "import numpy as np"
   ]
  },
  {
   "cell_type": "markdown",
   "metadata": {},
   "source": [
    "## Binary Classification Exemple"
   ]
  },
  {
   "cell_type": "code",
   "execution_count": 2,
   "metadata": {},
   "outputs": [
    {
     "name": "stdout",
     "output_type": "stream",
     "text": [
      "Linear algorithm was disabled.\n",
      "AutoML directory: AutoML_1\n",
      "The task is binary_classification with evaluation metric logloss\n",
      "AutoML will use algorithms: ['Baseline', 'Decision Tree', 'Random Forest', 'Xgboost', 'Neural Network']\n",
      "AutoML will ensemble available models\n",
      "AutoML steps: ['simple_algorithms', 'default_algorithms', 'ensemble']\n",
      "* Step simple_algorithms will try to check up to 2 models\n",
      "1_Baseline logloss 0.552923 trained in 0.22 seconds\n",
      "log_loss_eps() got an unexpected keyword argument 'response_method'\n",
      "Problem during computing permutation importance. Skipping ...\n"
     ]
    },
    {
     "name": "stderr",
     "output_type": "stream",
     "text": [
      "/Users/dominicprenovost/anaconda3/envs/HECFinance/lib/python3.11/site-packages/supervised/utils/shap.py:116: UserWarning: The figure layout has changed to tight\n"
     ]
    },
    {
     "name": "stdout",
     "output_type": "stream",
     "text": [
      "2_DecisionTree logloss 0.367314 trained in 3.66 seconds\n",
      "* Step default_algorithms will try to check up to 3 models\n",
      "log_loss_eps() got an unexpected keyword argument 'response_method'\n",
      "Problem during computing permutation importance. Skipping ...\n",
      "3_Default_Xgboost logloss 0.277682 trained in 1.95 seconds\n",
      "log_loss_eps() got an unexpected keyword argument 'response_method'\n",
      "Problem during computing permutation importance. Skipping ...\n",
      "4_Default_NeuralNetwork logloss 0.325852 trained in 2.54 seconds\n",
      "log_loss_eps() got an unexpected keyword argument 'response_method'\n",
      "Problem during computing permutation importance. Skipping ...\n"
     ]
    },
    {
     "name": "stderr",
     "output_type": "stream",
     "text": [
      "/Users/dominicprenovost/anaconda3/envs/HECFinance/lib/python3.11/site-packages/supervised/utils/shap.py:116: UserWarning: The figure layout has changed to tight\n"
     ]
    },
    {
     "name": "stdout",
     "output_type": "stream",
     "text": [
      "5_Default_RandomForest logloss 0.340462 trained in 5.97 seconds\n",
      "* Step ensemble will try to check up to 1 model\n",
      "Ensemble logloss 0.277682 trained in 1.23 seconds\n",
      "AutoML fit time: 18.87 seconds\n",
      "AutoML best model: 3_Default_Xgboost\n"
     ]
    }
   ],
   "source": [
    "df = pd.read_csv(\n",
    "    \"https://raw.githubusercontent.com/pplonski/datasets-for-start/master/adult/data.csv\",\n",
    "    skipinitialspace=True,\n",
    ")\n",
    "X_train, X_test, y_train, y_test = train_test_split(\n",
    "    df[df.columns[:-1]], df[\"income\"], test_size=0.25\n",
    ")\n",
    "\n",
    "automl = AutoML(mode=\"Explain\", explain_level=2,)\n",
    "automl.fit(X_train, y_train)\n",
    "\n",
    "predictions = automl.predict(X_test)"
   ]
  },
  {
   "cell_type": "markdown",
   "metadata": {},
   "source": [
    "## Multi-Class Classification Example"
   ]
  },
  {
   "cell_type": "code",
   "execution_count": null,
   "metadata": {},
   "outputs": [],
   "source": [
    "# load the data\n",
    "digits = load_digits()\n",
    "X_train, X_test, y_train, y_test = train_test_split(\n",
    "    pd.DataFrame(digits.data), digits.target, stratify=digits.target, test_size=0.25,\n",
    "    random_state=123\n",
    ")\n",
    "\n",
    "# train models with AutoML\n",
    "automl = AutoML(mode=\"Perform\")\n",
    "automl.fit(X_train, y_train)\n",
    "\n",
    "# compute the accuracy on test data\n",
    "predictions = automl.predict_all(X_test)\n",
    "print(predictions.head())\n",
    "print(\"Test accuracy:\", accuracy_score(y_test, predictions[\"label\"].astype(int)))"
   ]
  },
  {
   "cell_type": "markdown",
   "metadata": {},
   "source": [
    "## Regression Exemple"
   ]
  },
  {
   "cell_type": "code",
   "execution_count": 2,
   "metadata": {},
   "outputs": [
    {
     "name": "stdout",
     "output_type": "stream",
     "text": [
      "Linear algorithm was disabled.\n",
      "AutoML directory: AutoML_1\n",
      "The task is regression with evaluation metric rmse\n",
      "AutoML will use algorithms: ['Baseline', 'Decision Tree', 'Random Forest', 'Xgboost', 'Neural Network']\n",
      "AutoML will ensemble available models\n",
      "AutoML steps: ['simple_algorithms', 'default_algorithms', 'ensemble']\n",
      "* Step simple_algorithms will try to check up to 2 models\n",
      "1_Baseline rmse 1.175568 trained in 0.14 seconds\n"
     ]
    },
    {
     "name": "stderr",
     "output_type": "stream",
     "text": [
      "/Users/dominicprenovost/anaconda3/envs/HECFinance/lib/python3.11/site-packages/supervised/utils/shap.py:116: UserWarning: The figure layout has changed to tight\n"
     ]
    },
    {
     "name": "stdout",
     "output_type": "stream",
     "text": [
      "2_DecisionTree rmse 0.814045 trained in 3.59 seconds\n",
      "* Step default_algorithms will try to check up to 3 models\n",
      "3_Default_Xgboost rmse 0.466835 trained in 3.27 seconds\n",
      "4_Default_NeuralNetwork rmse 0.576015 trained in 0.78 seconds\n"
     ]
    },
    {
     "name": "stderr",
     "output_type": "stream",
     "text": [
      "/Users/dominicprenovost/anaconda3/envs/HECFinance/lib/python3.11/site-packages/shap/plots/_beeswarm.py:925: UserWarning: The figure layout has changed to tight\n",
      "/Users/dominicprenovost/anaconda3/envs/HECFinance/lib/python3.11/site-packages/supervised/utils/shap.py:116: UserWarning: The figure layout has changed to tight\n"
     ]
    },
    {
     "name": "stdout",
     "output_type": "stream",
     "text": [
      "5_Default_RandomForest rmse 0.73272 trained in 2.34 seconds\n",
      "* Step ensemble will try to check up to 1 model\n",
      "Ensemble rmse 0.466835 trained in 0.07 seconds\n",
      "AutoML fit time: 12.36 seconds\n",
      "AutoML best model: 3_Default_Xgboost\n",
      "Test MSE: 0.21027419363314073\n"
     ]
    }
   ],
   "source": [
    "# Load the data\n",
    "housing = fetch_california_housing()\n",
    "X_train, X_test, y_train, y_test = train_test_split(\n",
    "    pd.DataFrame(housing.data, columns=housing.feature_names),\n",
    "    housing.target,\n",
    "    test_size=0.25,\n",
    "    random_state=123,\n",
    ")\n",
    "\n",
    "# train models with AutoML\n",
    "automl = AutoML(mode=\"Explain\")\n",
    "automl.fit(X_train, y_train)\n",
    "\n",
    "# compute the MSE on test data\n",
    "predictions = automl.predict(X_test)\n",
    "print(\"Test MSE:\", mean_squared_error(y_test, predictions))"
   ]
  },
  {
   "cell_type": "markdown",
   "metadata": {},
   "source": [
    "## Classify Random Data"
   ]
  },
  {
   "cell_type": "code",
   "execution_count": null,
   "metadata": {},
   "outputs": [],
   "source": [
    "COLS = 10\n",
    "\n",
    "for ROWS in [1000, 5000, 10000]:\n",
    "    X = np.random.uniform(size=(ROWS, COLS))\n",
    "    y = np.random.randint(0, 2, size=(ROWS,))\n",
    "\n",
    "    automl = AutoML(results_path=f\"AutoML_{ROWS//1000}k\", mode=\"Explain\", features_selection=True)\n",
    "    automl.fit(X, y)"
   ]
  }
 ],
 "metadata": {
  "kernelspec": {
   "display_name": "HECFinance",
   "language": "python",
   "name": "python3"
  },
  "language_info": {
   "codemirror_mode": {
    "name": "ipython",
    "version": 3
   },
   "file_extension": ".py",
   "mimetype": "text/x-python",
   "name": "python",
   "nbconvert_exporter": "python",
   "pygments_lexer": "ipython3",
   "version": "3.11.4"
  }
 },
 "nbformat": 4,
 "nbformat_minor": 2
}
