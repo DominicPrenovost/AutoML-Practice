{
 "cells": [
  {
   "cell_type": "code",
   "execution_count": 2,
   "metadata": {},
   "outputs": [],
   "source": [
    "import pyarrow as pa\n",
    "import pyarrow.ipc as ipc\n",
    "import pandas as pd\n",
    "from sklearn.model_selection import train_test_split\n",
    "from sklearn.datasets import load_digits\n",
    "from sklearn.metrics import accuracy_score\n",
    "from supervised.automl import AutoML\n",
    "from sklearn.datasets import fetch_california_housing\n",
    "from sklearn.metrics import mean_squared_error\n",
    "import numpy as np\n",
    "from sklearn.metrics import classification_report"
   ]
  },
  {
   "cell_type": "markdown",
   "metadata": {},
   "source": [
    "## Binary Classification Exemple"
   ]
  },
  {
   "cell_type": "code",
   "execution_count": 3,
   "metadata": {},
   "outputs": [
    {
     "name": "stdout",
     "output_type": "stream",
     "text": [
      "Linear algorithm was disabled.\n",
      "AutoML directory: AutoML_1\n",
      "The task is binary_classification with evaluation metric logloss\n",
      "AutoML will use algorithms: ['Baseline', 'Decision Tree', 'Random Forest', 'Xgboost', 'Neural Network']\n",
      "AutoML will ensemble available models\n",
      "AutoML steps: ['simple_algorithms', 'default_algorithms', 'ensemble']\n",
      "* Step simple_algorithms will try to check up to 2 models\n",
      "1_Baseline logloss 0.554045 trained in 0.45 seconds\n",
      "2_DecisionTree logloss 0.375683 trained in 8.96 seconds\n",
      "* Step default_algorithms will try to check up to 3 models\n",
      "3_Default_Xgboost logloss 0.283013 trained in 2.01 seconds\n",
      "4_Default_NeuralNetwork logloss 0.355483 trained in 4.66 seconds\n",
      "5_Default_RandomForest logloss 0.345634 trained in 10.43 seconds\n",
      "* Step ensemble will try to check up to 1 model\n",
      "Ensemble logloss 0.283013 trained in 1.1 seconds\n",
      "AutoML fit time: 31.55 seconds\n",
      "AutoML best model: 3_Default_Xgboost\n",
      "              precision    recall  f1-score   support\n",
      "\n",
      "       <=50K       0.91      0.93      0.92      6222\n",
      "        >50K       0.76      0.70      0.73      1919\n",
      "\n",
      "    accuracy                           0.88      8141\n",
      "   macro avg       0.84      0.82      0.83      8141\n",
      "weighted avg       0.87      0.88      0.88      8141\n",
      "\n"
     ]
    }
   ],
   "source": [
    "df = pd.read_csv(\n",
    "    \"https://raw.githubusercontent.com/pplonski/datasets-for-start/master/adult/data.csv\",\n",
    "    skipinitialspace=True,\n",
    ")\n",
    "X_train, X_test, y_train, y_test = train_test_split(\n",
    "    df[df.columns[:-1]], df[\"income\"], test_size=0.25\n",
    ")\n",
    "\n",
    "automl = AutoML(mode=\"Explain\", explain_level=2,)\n",
    "automl.fit(X_train, y_train)\n",
    "\n",
    "predictions = automl.predict(X_test)\n",
    "\n",
    "print(classification_report(y_test, predictions))"
   ]
  },
  {
   "cell_type": "markdown",
   "metadata": {},
   "source": [
    "## Multi-Class Classification Example"
   ]
  },
  {
   "cell_type": "code",
   "execution_count": null,
   "metadata": {},
   "outputs": [],
   "source": [
    "# load the data\n",
    "digits = load_digits()\n",
    "X_train, X_test, y_train, y_test = train_test_split(\n",
    "    pd.DataFrame(digits.data), digits.target, stratify=digits.target, test_size=0.25,\n",
    "    random_state=123\n",
    ")\n",
    "\n",
    "# train models with AutoML\n",
    "automl = AutoML(mode=\"Perform\")\n",
    "automl.fit(X_train, y_train)\n",
    "\n",
    "# compute the accuracy on test data\n",
    "predictions = automl.predict_all(X_test)\n",
    "print(predictions.head())\n",
    "print(\"Test accuracy:\", accuracy_score(y_test, predictions[\"label\"].astype(int)))"
   ]
  },
  {
   "cell_type": "markdown",
   "metadata": {},
   "source": [
    "## Regression Exemple"
   ]
  },
  {
   "cell_type": "code",
   "execution_count": null,
   "metadata": {},
   "outputs": [],
   "source": [
    "# Load the data\n",
    "housing = fetch_california_housing()\n",
    "X_train, X_test, y_train, y_test = train_test_split(\n",
    "    pd.DataFrame(housing.data, columns=housing.feature_names),\n",
    "    housing.target,\n",
    "    test_size=0.25,\n",
    "    random_state=123,\n",
    ")\n",
    "\n",
    "# train models with AutoML\n",
    "automl = AutoML(mode=\"Explain\")\n",
    "automl.fit(X_train, y_train)\n",
    "\n",
    "# compute the MSE on test data\n",
    "predictions = automl.predict(X_test)\n",
    "print(\"Test MSE:\", mean_squared_error(y_test, predictions))"
   ]
  },
  {
   "cell_type": "markdown",
   "metadata": {},
   "source": [
    "## Classify Random Data"
   ]
  },
  {
   "cell_type": "code",
   "execution_count": null,
   "metadata": {},
   "outputs": [],
   "source": [
    "COLS = 10\n",
    "\n",
    "for ROWS in [1000, 5000, 10000]:\n",
    "    X = np.random.uniform(size=(ROWS, COLS))\n",
    "    y = np.random.randint(0, 2, size=(ROWS,))\n",
    "\n",
    "    automl = AutoML(results_path=f\"AutoML_{ROWS//1000}k\", mode=\"Explain\", features_selection=True)\n",
    "    automl.fit(X, y)"
   ]
  },
  {
   "cell_type": "code",
   "execution_count": null,
   "metadata": {},
   "outputs": [],
   "source": [
    "pip uninstall joblib"
   ]
  },
  {
   "cell_type": "markdown",
   "metadata": {},
   "source": [
    "## Classify Titanic Passenger"
   ]
  },
  {
   "cell_type": "code",
   "execution_count": 4,
   "metadata": {},
   "outputs": [
    {
     "name": "stdout",
     "output_type": "stream",
     "text": [
      "This model has already been fitted. You can use predict methods or select a new 'results_path' for a new 'fit()'.\n"
     ]
    },
    {
     "name": "stderr",
     "output_type": "stream",
     "text": [
      "2024-11-25 14:42:09,614 supervised.exceptions ERROR Joblib version mismatch. Computer: 1.4.2, Framework: 1.3.2. Change to Framework version!\n",
      "2024-11-25 14:42:09,614 supervised.exceptions ERROR Cannot load AutoML directory. Joblib version mismatch. Computer: 1.4.2, Framework: 1.3.2. Change to Framework version!\n"
     ]
    },
    {
     "ename": "AutoMLException",
     "evalue": "Cannot load AutoML directory. Joblib version mismatch. Computer: 1.4.2, Framework: 1.3.2. Change to Framework version!",
     "output_type": "error",
     "traceback": [
      "\u001b[0;31m---------------------------------------------------------------------------\u001b[0m",
      "\u001b[0;31mAutoMLException\u001b[0m                           Traceback (most recent call last)",
      "File \u001b[0;32m~/anaconda3/envs/HECFinance/lib/python3.11/site-packages/supervised/base_automl.py:202\u001b[0m, in \u001b[0;36mBaseAutoML.load\u001b[0;34m(self, path)\u001b[0m\n\u001b[1;32m    201\u001b[0m \u001b[38;5;28;01melse\u001b[39;00m:\n\u001b[0;32m--> 202\u001b[0m     m \u001b[38;5;241m=\u001b[39m ModelFramework\u001b[38;5;241m.\u001b[39mload(path, model_subpath, lazy_load)\n\u001b[1;32m    203\u001b[0m     \u001b[38;5;28mself\u001b[39m\u001b[38;5;241m.\u001b[39m_models \u001b[38;5;241m+\u001b[39m\u001b[38;5;241m=\u001b[39m [m]\n",
      "File \u001b[0;32m~/anaconda3/envs/HECFinance/lib/python3.11/site-packages/supervised/model_framework.py:700\u001b[0m, in \u001b[0;36mModelFramework.load\u001b[0;34m(results_path, model_subpath, lazy_load)\u001b[0m\n\u001b[1;32m    696\u001b[0m \u001b[38;5;28;01mif\u001b[39;00m (\n\u001b[1;32m    697\u001b[0m     joblib_version_framework \u001b[38;5;129;01mis\u001b[39;00m \u001b[38;5;129;01mnot\u001b[39;00m \u001b[38;5;28;01mNone\u001b[39;00m\n\u001b[1;32m    698\u001b[0m     \u001b[38;5;129;01mand\u001b[39;00m joblib_version_computer \u001b[38;5;241m!=\u001b[39m joblib_version_framework\n\u001b[1;32m    699\u001b[0m ):\n\u001b[0;32m--> 700\u001b[0m     \u001b[38;5;28;01mraise\u001b[39;00m AutoMLException(\n\u001b[1;32m    701\u001b[0m         \u001b[38;5;124mf\u001b[39m\u001b[38;5;124m\"\u001b[39m\u001b[38;5;124mJoblib version mismatch. Computer: \u001b[39m\u001b[38;5;132;01m{\u001b[39;00mjoblib_version_computer\u001b[38;5;132;01m}\u001b[39;00m\u001b[38;5;124m, Framework: \u001b[39m\u001b[38;5;132;01m{\u001b[39;00mjoblib_version_framework\u001b[38;5;132;01m}\u001b[39;00m\u001b[38;5;124m. Change to Framework version!\u001b[39m\u001b[38;5;124m\"\u001b[39m\n\u001b[1;32m    702\u001b[0m     )\n\u001b[1;32m    704\u001b[0m mf \u001b[38;5;241m=\u001b[39m ModelFramework(json_desc[\u001b[38;5;124m\"\u001b[39m\u001b[38;5;124mparams\u001b[39m\u001b[38;5;124m\"\u001b[39m])\n",
      "\u001b[0;31mAutoMLException\u001b[0m: Joblib version mismatch. Computer: 1.4.2, Framework: 1.3.2. Change to Framework version!",
      "\nDuring handling of the above exception, another exception occurred:\n",
      "\u001b[0;31mAutoMLException\u001b[0m                           Traceback (most recent call last)",
      "Cell \u001b[0;32mIn[4], line 15\u001b[0m\n\u001b[1;32m     12\u001b[0m automl\u001b[38;5;241m.\u001b[39mfit(X, y)\n\u001b[1;32m     14\u001b[0m test \u001b[38;5;241m=\u001b[39m pd\u001b[38;5;241m.\u001b[39mread_csv(\u001b[38;5;124m\"\u001b[39m\u001b[38;5;124mhttps://raw.githubusercontent.com/pplonski/datasets-for-start/master/Titanic/test_with_Survived.csv\u001b[39m\u001b[38;5;124m\"\u001b[39m)\n\u001b[0;32m---> 15\u001b[0m predictions \u001b[38;5;241m=\u001b[39m automl\u001b[38;5;241m.\u001b[39mpredict(test)\n\u001b[1;32m     16\u001b[0m \u001b[38;5;28mprint\u001b[39m(\u001b[38;5;124mf\u001b[39m\u001b[38;5;124m\"\u001b[39m\u001b[38;5;124mAccuracy: \u001b[39m\u001b[38;5;132;01m{\u001b[39;00maccuracy_score(test[\u001b[38;5;124m'\u001b[39m\u001b[38;5;124mSurvived\u001b[39m\u001b[38;5;124m'\u001b[39m],\u001b[38;5;250m \u001b[39mpredictions)\u001b[38;5;241m*\u001b[39m\u001b[38;5;241m100.0\u001b[39m\u001b[38;5;132;01m:\u001b[39;00m\u001b[38;5;124m.2f\u001b[39m\u001b[38;5;132;01m}\u001b[39;00m\u001b[38;5;124m%\u001b[39m\u001b[38;5;124m\"\u001b[39m )\n",
      "File \u001b[0;32m~/anaconda3/envs/HECFinance/lib/python3.11/site-packages/supervised/automl.py:451\u001b[0m, in \u001b[0;36mAutoML.predict\u001b[0;34m(self, X)\u001b[0m\n\u001b[1;32m    434\u001b[0m \u001b[38;5;28;01mdef\u001b[39;00m \u001b[38;5;21mpredict\u001b[39m(\u001b[38;5;28mself\u001b[39m, X: Union[List, numpy\u001b[38;5;241m.\u001b[39mndarray, pandas\u001b[38;5;241m.\u001b[39mDataFrame]) \u001b[38;5;241m-\u001b[39m\u001b[38;5;241m>\u001b[39m numpy\u001b[38;5;241m.\u001b[39mndarray:\n\u001b[1;32m    435\u001b[0m \u001b[38;5;250m    \u001b[39m\u001b[38;5;124;03m\"\"\"\u001b[39;00m\n\u001b[1;32m    436\u001b[0m \u001b[38;5;124;03m    Computes predictions from AutoML best model.\u001b[39;00m\n\u001b[1;32m    437\u001b[0m \n\u001b[0;32m   (...)\u001b[0m\n\u001b[1;32m    449\u001b[0m \u001b[38;5;124;03m        AutoMLException: Model has not yet been fitted.\u001b[39;00m\n\u001b[1;32m    450\u001b[0m \u001b[38;5;124;03m    \"\"\"\u001b[39;00m\n\u001b[0;32m--> 451\u001b[0m     \u001b[38;5;28;01mreturn\u001b[39;00m \u001b[38;5;28mself\u001b[39m\u001b[38;5;241m.\u001b[39m_predict(X)\n",
      "File \u001b[0;32m~/anaconda3/envs/HECFinance/lib/python3.11/site-packages/supervised/base_automl.py:1503\u001b[0m, in \u001b[0;36mBaseAutoML._predict\u001b[0;34m(self, X)\u001b[0m\n\u001b[1;32m   1502\u001b[0m \u001b[38;5;28;01mdef\u001b[39;00m \u001b[38;5;21m_predict\u001b[39m(\u001b[38;5;28mself\u001b[39m, X):\n\u001b[0;32m-> 1503\u001b[0m     predictions \u001b[38;5;241m=\u001b[39m \u001b[38;5;28mself\u001b[39m\u001b[38;5;241m.\u001b[39m_base_predict(X)\n\u001b[1;32m   1504\u001b[0m     \u001b[38;5;66;03m# Return predictions\u001b[39;00m\n\u001b[1;32m   1505\u001b[0m     \u001b[38;5;66;03m# If classification task the result is in column 'label'\u001b[39;00m\n\u001b[1;32m   1506\u001b[0m     \u001b[38;5;66;03m# If regression task the result is in column 'prediction'\u001b[39;00m\n\u001b[1;32m   1507\u001b[0m     \u001b[38;5;28;01mreturn\u001b[39;00m (\n\u001b[1;32m   1508\u001b[0m         predictions[\u001b[38;5;124m\"\u001b[39m\u001b[38;5;124mlabel\u001b[39m\u001b[38;5;124m\"\u001b[39m]\u001b[38;5;241m.\u001b[39mto_numpy()\n\u001b[1;32m   1509\u001b[0m         \u001b[38;5;28;01mif\u001b[39;00m \u001b[38;5;28mself\u001b[39m\u001b[38;5;241m.\u001b[39m_ml_task \u001b[38;5;241m!=\u001b[39m REGRESSION\n\u001b[1;32m   1510\u001b[0m         \u001b[38;5;28;01melse\u001b[39;00m predictions[\u001b[38;5;124m\"\u001b[39m\u001b[38;5;124mprediction\u001b[39m\u001b[38;5;124m\"\u001b[39m]\u001b[38;5;241m.\u001b[39mto_numpy()\n\u001b[1;32m   1511\u001b[0m     )\n",
      "File \u001b[0;32m~/anaconda3/envs/HECFinance/lib/python3.11/site-packages/supervised/base_automl.py:1436\u001b[0m, in \u001b[0;36mBaseAutoML._base_predict\u001b[0;34m(self, X, model)\u001b[0m\n\u001b[1;32m   1434\u001b[0m \u001b[38;5;28;01mif\u001b[39;00m model \u001b[38;5;129;01mis\u001b[39;00m \u001b[38;5;28;01mNone\u001b[39;00m:\n\u001b[1;32m   1435\u001b[0m     \u001b[38;5;28;01mif\u001b[39;00m \u001b[38;5;28mself\u001b[39m\u001b[38;5;241m.\u001b[39m_best_model \u001b[38;5;129;01mis\u001b[39;00m \u001b[38;5;28;01mNone\u001b[39;00m:\n\u001b[0;32m-> 1436\u001b[0m         \u001b[38;5;28mself\u001b[39m\u001b[38;5;241m.\u001b[39mload(\u001b[38;5;28mself\u001b[39m\u001b[38;5;241m.\u001b[39mresults_path)\n\u001b[1;32m   1437\u001b[0m     model \u001b[38;5;241m=\u001b[39m \u001b[38;5;28mself\u001b[39m\u001b[38;5;241m.\u001b[39m_best_model\n\u001b[1;32m   1439\u001b[0m \u001b[38;5;28;01mif\u001b[39;00m model \u001b[38;5;129;01mis\u001b[39;00m \u001b[38;5;28;01mNone\u001b[39;00m:\n",
      "File \u001b[0;32m~/anaconda3/envs/HECFinance/lib/python3.11/site-packages/supervised/base_automl.py:225\u001b[0m, in \u001b[0;36mBaseAutoML.load\u001b[0;34m(self, path)\u001b[0m\n\u001b[1;32m    222\u001b[0m         \u001b[38;5;28mself\u001b[39m\u001b[38;5;241m.\u001b[39mn_classes \u001b[38;5;241m=\u001b[39m \u001b[38;5;28mself\u001b[39m\u001b[38;5;241m.\u001b[39m_data_info[\u001b[38;5;124m\"\u001b[39m\u001b[38;5;124mn_classes\u001b[39m\u001b[38;5;124m\"\u001b[39m]\n\u001b[1;32m    224\u001b[0m \u001b[38;5;28;01mexcept\u001b[39;00m \u001b[38;5;167;01mException\u001b[39;00m \u001b[38;5;28;01mas\u001b[39;00m e:\n\u001b[0;32m--> 225\u001b[0m     \u001b[38;5;28;01mraise\u001b[39;00m AutoMLException(\u001b[38;5;124mf\u001b[39m\u001b[38;5;124m\"\u001b[39m\u001b[38;5;124mCannot load AutoML directory. \u001b[39m\u001b[38;5;132;01m{\u001b[39;00m\u001b[38;5;28mstr\u001b[39m(e)\u001b[38;5;132;01m}\u001b[39;00m\u001b[38;5;124m\"\u001b[39m)\n",
      "\u001b[0;31mAutoMLException\u001b[0m: Cannot load AutoML directory. Joblib version mismatch. Computer: 1.4.2, Framework: 1.3.2. Change to Framework version!"
     ]
    }
   ],
   "source": [
    "import pandas as pd\n",
    "import numpy as np\n",
    "from sklearn.metrics import accuracy_score\n",
    "from supervised import AutoML\n",
    "\n",
    "train = pd.read_csv(\"https://raw.githubusercontent.com/pplonski/datasets-for-start/master/Titanic/train.csv\")\n",
    "\n",
    "X = train[train.columns[2:]]\n",
    "y = train[\"Survived\"]\n",
    "\n",
    "automl = AutoML(results_path=\"AutoML_3\")\n",
    "automl.fit(X, y)\n",
    "\n",
    "test = pd.read_csv(\"https://raw.githubusercontent.com/pplonski/datasets-for-start/master/Titanic/test_with_Survived.csv\")\n",
    "predictions = automl.predict(test)\n",
    "print(f\"Accuracy: {accuracy_score(test['Survived'], predictions)*100.0:.2f}%\" )"
   ]
  },
  {
   "cell_type": "code",
   "execution_count": null,
   "metadata": {},
   "outputs": [],
   "source": [
    "pip uninstall joblib\n",
    "pip install joblib==1.3.2\n",
    "pip show joblib"
   ]
  }
 ],
 "metadata": {
  "kernelspec": {
   "display_name": "HECFinance",
   "language": "python",
   "name": "python3"
  },
  "language_info": {
   "codemirror_mode": {
    "name": "ipython",
    "version": 3
   },
   "file_extension": ".py",
   "mimetype": "text/x-python",
   "name": "python",
   "nbconvert_exporter": "python",
   "pygments_lexer": "ipython3",
   "version": "3.11.4"
  }
 },
 "nbformat": 4,
 "nbformat_minor": 2
}
