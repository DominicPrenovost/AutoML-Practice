{
 "cells": [
  {
   "cell_type": "code",
   "execution_count": 2,
   "metadata": {},
   "outputs": [
    {
     "data": {
      "text/html": [
       "<div>\n",
       "<style scoped>\n",
       "    .dataframe tbody tr th:only-of-type {\n",
       "        vertical-align: middle;\n",
       "    }\n",
       "\n",
       "    .dataframe tbody tr th {\n",
       "        vertical-align: top;\n",
       "    }\n",
       "\n",
       "    .dataframe thead th {\n",
       "        text-align: right;\n",
       "    }\n",
       "</style>\n",
       "<table border=\"1\" class=\"dataframe\">\n",
       "  <thead>\n",
       "    <tr style=\"text-align: right;\">\n",
       "      <th></th>\n",
       "      <th>date</th>\n",
       "      <th>value</th>\n",
       "    </tr>\n",
       "  </thead>\n",
       "  <tbody>\n",
       "    <tr>\n",
       "      <th>0</th>\n",
       "      <td>2024-01-01</td>\n",
       "      <td>1.208942</td>\n",
       "    </tr>\n",
       "    <tr>\n",
       "      <th>1</th>\n",
       "      <td>2024-01-02</td>\n",
       "      <td>-0.494255</td>\n",
       "    </tr>\n",
       "    <tr>\n",
       "      <th>2</th>\n",
       "      <td>2024-01-03</td>\n",
       "      <td>0.229376</td>\n",
       "    </tr>\n",
       "    <tr>\n",
       "      <th>3</th>\n",
       "      <td>2024-01-04</td>\n",
       "      <td>0.463890</td>\n",
       "    </tr>\n",
       "    <tr>\n",
       "      <th>4</th>\n",
       "      <td>2024-01-05</td>\n",
       "      <td>-0.696427</td>\n",
       "    </tr>\n",
       "  </tbody>\n",
       "</table>\n",
       "</div>"
      ],
      "text/plain": [
       "        date     value\n",
       "0 2024-01-01  1.208942\n",
       "1 2024-01-02 -0.494255\n",
       "2 2024-01-03  0.229376\n",
       "3 2024-01-04  0.463890\n",
       "4 2024-01-05 -0.696427"
      ]
     },
     "execution_count": 2,
     "metadata": {},
     "output_type": "execute_result"
    }
   ],
   "source": [
    "import pandas as pd\n",
    "import numpy as np\n",
    "\n",
    "# Génération des données mensuelles\n",
    "data = pd.DataFrame({\n",
    "    'date': pd.date_range(start='2024-01-01', end='2024-11-15', freq='D'),\n",
    "    'value': np.random.randn(320)  # 320 jours de données aléatoires\n",
    "})\n",
    "\n",
    "# Vérifions les données\n",
    "data.head()"
   ]
  },
  {
   "cell_type": "code",
   "execution_count": 4,
   "metadata": {},
   "outputs": [
    {
     "name": "stdout",
     "output_type": "stream",
     "text": [
      "Première fenêtre :\n",
      "Train data : [ 1.20894213 -0.49425469  0.22937598  0.46388957 -0.69642744  0.63819439\n",
      "  0.89538666 -0.62073845  0.74001969 -0.75921436 -1.75027    -0.59983802\n",
      "  0.56751792 -1.34551425  0.74805118 -0.15616636  0.18567768 -1.10064746\n",
      " -1.29293132 -0.24627519  0.64588054 -0.09809849 -0.84308443  0.39586634\n",
      "  1.46558444  0.62070093 -1.05224463  0.63157493  1.68695292 -1.04862762\n",
      "  2.02470869]\n",
      "Test data : [-0.17556562 -0.27900946  0.58073474 -0.41656328  1.12131831  0.94181249\n",
      "  0.40588228  1.45502206 -0.3330021   1.29105368 -0.94555557 -1.20660716\n",
      "  0.98109239 -0.99751816  1.8479838  -1.35592257 -0.40920879 -3.44894815\n",
      "  0.09442762  0.41031304 -1.36150118  1.02275112  1.95123071 -1.80229381\n",
      "  0.01258558 -1.12167842 -0.29999761 -0.36181716 -0.49157023  1.08444748\n",
      " -0.21342243]\n"
     ]
    }
   ],
   "source": [
    "from dateutil.relativedelta import relativedelta\n",
    "\n",
    "def generate_rolling_windows(data, date_col, value_col):\n",
    "    windows = []\n",
    "    start_date = data[date_col].min()  # Date de début\n",
    "    end_date = data[date_col].max()    # Date de fin\n",
    "\n",
    "    while start_date + relativedelta(months=2) <= end_date:\n",
    "        # Définir les périodes\n",
    "        train_start = start_date\n",
    "        train_end = start_date + relativedelta(months=1) - pd.Timedelta(days=1)\n",
    "        tampon_start = train_end + pd.Timedelta(days=1)\n",
    "        tampon_end = tampon_start + relativedelta(months=1) - pd.Timedelta(days=1)\n",
    "        test_start = tampon_end + pd.Timedelta(days=1)\n",
    "        test_end = test_start + relativedelta(months=1) - pd.Timedelta(days=1)\n",
    "\n",
    "        # Sélectionner les données pour chaque période\n",
    "        train_data = data[(data[date_col] >= train_start) & (data[date_col] <= train_end)]\n",
    "        test_data = data[(data[date_col] >= test_start) & (data[date_col] <= test_end)]\n",
    "\n",
    "        # Ajouter la fenêtre\n",
    "        windows.append({\n",
    "            \"train\": train_data[value_col].values,\n",
    "            \"test\": test_data[value_col].values,\n",
    "            \"train_dates\": train_data[date_col].values,\n",
    "            \"test_dates\": test_data[date_col].values\n",
    "        })\n",
    "\n",
    "        # Avancer la fenêtre\n",
    "        start_date += relativedelta(months=1)\n",
    "\n",
    "    return windows\n",
    "\n",
    "# Génération des fenêtres\n",
    "windows = generate_rolling_windows(data, date_col='date', value_col='value')\n",
    "\n",
    "# Exemple de la première fenêtre\n",
    "print(\"Première fenêtre :\")\n",
    "print(\"Train data :\", windows[0]['train'])\n",
    "print(\"Test data :\", windows[0]['test'])"
   ]
  },
  {
   "cell_type": "code",
   "execution_count": 5,
   "metadata": {},
   "outputs": [
    {
     "name": "stdout",
     "output_type": "stream",
     "text": [
      "Fenêtre 1:\n",
      "  Train: 2024-01-01T00:00:00.000000000 à 2024-01-31T00:00:00.000000000\n",
      "  Test: 2024-03-01T00:00:00.000000000 à 2024-03-31T00:00:00.000000000\n",
      "Fenêtre 2:\n",
      "  Train: 2024-02-01T00:00:00.000000000 à 2024-02-29T00:00:00.000000000\n",
      "  Test: 2024-04-01T00:00:00.000000000 à 2024-04-30T00:00:00.000000000\n",
      "Fenêtre 3:\n",
      "  Train: 2024-03-01T00:00:00.000000000 à 2024-03-31T00:00:00.000000000\n",
      "  Test: 2024-05-01T00:00:00.000000000 à 2024-05-31T00:00:00.000000000\n"
     ]
    }
   ],
   "source": [
    "for i, window in enumerate(windows[:3]):  # Afficher les trois premières fenêtres\n",
    "    print(f\"Fenêtre {i+1}:\")\n",
    "    print(f\"  Train: {window['train_dates'][0]} à {window['train_dates'][-1]}\")\n",
    "    print(f\"  Test: {window['test_dates'][0]} à {window['test_dates'][-1]}\")"
   ]
  }
 ],
 "metadata": {
  "kernelspec": {
   "display_name": "HECFinance",
   "language": "python",
   "name": "python3"
  },
  "language_info": {
   "codemirror_mode": {
    "name": "ipython",
    "version": 3
   },
   "file_extension": ".py",
   "mimetype": "text/x-python",
   "name": "python",
   "nbconvert_exporter": "python",
   "pygments_lexer": "ipython3",
   "version": "3.11.4"
  }
 },
 "nbformat": 4,
 "nbformat_minor": 2
}
